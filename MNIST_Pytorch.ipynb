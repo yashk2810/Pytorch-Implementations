{
 "cells": [
  {
   "cell_type": "code",
   "execution_count": 2,
   "metadata": {
    "collapsed": false
   },
   "outputs": [],
   "source": [
    "import torch\n",
    "from torch.autograd import Variable\n",
    "from torch import nn, optim\n",
    "import torch.nn.functional as F\n",
    "import torchvision\n",
    "from torchvision import transforms, datasets\n",
    "import numpy as np\n",
    "import matplotlib.pyplot as plt\n",
    "from functools import reduce\n",
    "import operator"
   ]
  },
  {
   "cell_type": "code",
   "execution_count": 6,
   "metadata": {
    "collapsed": true
   },
   "outputs": [],
   "source": [
    "# ToTensor will convert the image from [0, 255] ot [0, 1]\n",
    "# Normalize will do normalize the image i.e. subtract the mean and divide by std\n",
    "# ImageDataGenerator => Keras\n",
    "transform = transforms.Compose([transforms.ToTensor(), \n",
    "                                transforms.Normalize((0.1307,), (0.3081,))])"
   ]
  },
  {
   "cell_type": "code",
   "execution_count": 7,
   "metadata": {
    "collapsed": false
   },
   "outputs": [
    {
     "name": "stdout",
     "output_type": "stream",
     "text": [
      "Downloading http://yann.lecun.com/exdb/mnist/train-images-idx3-ubyte.gz\n",
      "Downloading http://yann.lecun.com/exdb/mnist/train-labels-idx1-ubyte.gz\n",
      "Downloading http://yann.lecun.com/exdb/mnist/t10k-images-idx3-ubyte.gz\n",
      "Downloading http://yann.lecun.com/exdb/mnist/t10k-labels-idx1-ubyte.gz\n",
      "Processing...\n",
      "Done!\n"
     ]
    }
   ],
   "source": [
    "trainset = datasets.MNIST(root='./data', train=True, download=True, transform=transform)\n",
    "# flow_from_directory => Keras\n",
    "trainloader = torch.utils.data.DataLoader(trainset, batch_size=32, shuffle=True, num_workers=2)"
   ]
  },
  {
   "cell_type": "code",
   "execution_count": 10,
   "metadata": {
    "collapsed": true
   },
   "outputs": [],
   "source": [
    "testset = datasets.MNIST(root='./data', train=False, download=True, transform=transform)\n",
    "# flow_from_directory => Keras\n",
    "testloader = torch.utils.data.DataLoader(testset, batch_size=32, shuffle=False, num_workers=2)"
   ]
  },
  {
   "cell_type": "code",
   "execution_count": 303,
   "metadata": {
    "collapsed": false
   },
   "outputs": [],
   "source": [
    "class Net(nn.Module):\n",
    "    def __init__(self):\n",
    "        super(Net, self).__init__()\n",
    "#         self.conv1 = nn.Conv2d(1, 32, 3, padding=1)\n",
    "#         # conv1 = 28x28x1 => 28x28x32\n",
    "#         # pooling = 28x28x32 => 14x14x32\n",
    "        \n",
    "#         self.conv2 = nn.Conv2d(32, 64, 3, padding=1)\n",
    "#         # conv2 = 14x14x32 => 14x14x64\n",
    "#         # pooling = 14x14x64 => 7x7x64\n",
    "        \n",
    "#         self.fc1 = nn.Linear(64*7*7, 1024)\n",
    "#         self.fc2 = nn.Linear(1024, 10)\n",
    "\n",
    "        self.layer1 = nn.Sequential(\n",
    "            nn.Conv2d(1, 32, 3, padding=1),\n",
    "            nn.Conv2d(32, 32, 3, padding=1),\n",
    "            nn.BatchNorm2d(32),\n",
    "            nn.ReLU(),\n",
    "            nn.MaxPool2d(2))\n",
    "        \n",
    "        self.layer2 = nn.Sequential(\n",
    "            nn.Conv2d(32, 64, 3, padding=1),\n",
    "            nn.Conv2d(64, 64, 3, padding=1),\n",
    "            nn.BatchNorm2d(64),\n",
    "            nn.ReLU(),\n",
    "            nn.MaxPool2d(2))\n",
    "        \n",
    "        self.classifier = nn.Sequential(\n",
    "            nn.Linear(64*7*7, 512),\n",
    "            nn.ReLU(),\n",
    "            nn.Dropout(),\n",
    "            nn.Linear(512, 10))\n",
    "        \n",
    "        \n",
    "    def forward(self, x):\n",
    "#         x = F.max_pool2d(F.relu(self.conv1(x)), 2)\n",
    "#         x = F.max_pool2d(F.relu(self.conv2(x)), 2)\n",
    "#         print (x.size())\n",
    "#         # reshape Variable\n",
    "#         x = x.view(-1, 64*7*7)\n",
    "#         x = F.relu(self.fc1(x))\n",
    "#         x = F.dropout(x, training=self.training)\n",
    "#         x = self.fc2(x)\n",
    "#         return x\n",
    "\n",
    "        x = self.layer1(x)\n",
    "        x = self.layer2(x)\n",
    "        # print (x.size())\n",
    "        x = x.view(-1, 64*7*7)\n",
    "        x = self.classifier(x)\n",
    "        return x"
   ]
  },
  {
   "cell_type": "code",
   "execution_count": 304,
   "metadata": {
    "collapsed": false
   },
   "outputs": [],
   "source": [
    "net = Net()"
   ]
  },
  {
   "cell_type": "code",
   "execution_count": 305,
   "metadata": {
    "collapsed": false
   },
   "outputs": [
    {
     "data": {
      "text/plain": [
       "Net (\n",
       "  (layer1): Sequential (\n",
       "    (0): Conv2d(1, 32, kernel_size=(3, 3), stride=(1, 1), padding=(1, 1))\n",
       "    (1): Conv2d(32, 32, kernel_size=(3, 3), stride=(1, 1), padding=(1, 1))\n",
       "    (2): BatchNorm2d(32, eps=1e-05, momentum=0.1, affine=True)\n",
       "    (3): ReLU ()\n",
       "    (4): MaxPool2d (size=(2, 2), stride=(2, 2), dilation=(1, 1))\n",
       "  )\n",
       "  (layer2): Sequential (\n",
       "    (0): Conv2d(32, 64, kernel_size=(3, 3), stride=(1, 1), padding=(1, 1))\n",
       "    (1): Conv2d(64, 64, kernel_size=(3, 3), stride=(1, 1), padding=(1, 1))\n",
       "    (2): BatchNorm2d(64, eps=1e-05, momentum=0.1, affine=True)\n",
       "    (3): ReLU ()\n",
       "    (4): MaxPool2d (size=(2, 2), stride=(2, 2), dilation=(1, 1))\n",
       "  )\n",
       "  (classifier): Sequential (\n",
       "    (0): Linear (3136 -> 512)\n",
       "    (1): ReLU ()\n",
       "    (2): Dropout (p = 0.5)\n",
       "    (3): Linear (512 -> 10)\n",
       "  )\n",
       ")"
      ]
     },
     "execution_count": 305,
     "metadata": {},
     "output_type": "execute_result"
    }
   ],
   "source": [
    "net"
   ]
  },
  {
   "cell_type": "code",
   "execution_count": 306,
   "metadata": {
    "collapsed": false
   },
   "outputs": [
    {
     "data": {
      "text/plain": [
       "<generator object Module.parameters at 0x7f21f8738ca8>"
      ]
     },
     "execution_count": 306,
     "metadata": {},
     "output_type": "execute_result"
    }
   ],
   "source": [
    "net.parameters()"
   ]
  },
  {
   "cell_type": "code",
   "execution_count": 307,
   "metadata": {
    "collapsed": true
   },
   "outputs": [],
   "source": [
    "loss_function = nn.CrossEntropyLoss()\n",
    "optimizer = optim.Adam(net.parameters(), lr=1e-3)"
   ]
  },
  {
   "cell_type": "markdown",
   "metadata": {},
   "source": [
    "# Training"
   ]
  },
  {
   "cell_type": "code",
   "execution_count": 308,
   "metadata": {
    "collapsed": false
   },
   "outputs": [
    {
     "name": "stdout",
     "output_type": "stream",
     "text": [
      "[0,   500] loss: 0.0198\n",
      "[0,  1000] loss: 0.2518\n",
      "[0,  1500] loss: 0.0322\n"
     ]
    }
   ],
   "source": [
    "for epoch in range(1):\n",
    "    for i, data in enumerate(trainloader):\n",
    "        inputs, labels = data\n",
    "        inputs = Variable(inputs)\n",
    "        labels = Variable(labels)\n",
    "        \n",
    "        # forward + backward + optimize\n",
    "        \n",
    "        # zeroes the gradient buffers of all parameters\n",
    "        optimizer.zero_grad()\n",
    "        outputs = net(inputs)\n",
    "        # calculate the loss\n",
    "        loss = loss_function(outputs, labels)\n",
    "        # backpropagation\n",
    "        loss.backward()\n",
    "        # Does the update after calculating the gradients\n",
    "        optimizer.step()\n",
    "        \n",
    "        if (i+1) % 500 == 0: # print every 100 mini-batches\n",
    "            print('[%d, %5d] loss: %.4f' % (epoch, i+1, loss.data[0]))"
   ]
  },
  {
   "cell_type": "markdown",
   "metadata": {},
   "source": [
    "# Testing"
   ]
  },
  {
   "cell_type": "code",
   "execution_count": 309,
   "metadata": {
    "collapsed": true
   },
   "outputs": [],
   "source": [
    "net.eval()\n",
    "correct = 0\n",
    "total = 0"
   ]
  },
  {
   "cell_type": "code",
   "execution_count": 310,
   "metadata": {
    "collapsed": false
   },
   "outputs": [
    {
     "name": "stdout",
     "output_type": "stream",
     "text": [
      "Accuracy : 98.79\n"
     ]
    }
   ],
   "source": [
    "for images, label in testloader:\n",
    "    images = Variable(images)\n",
    "    outputs = net(images)\n",
    "    _, predicted = torch.max(outputs.data, dim=1)\n",
    "    total += label.size(0)\n",
    "    correct += (label == predicted).sum()\n",
    "\n",
    "print ('Accuracy :', (100 * correct) / total)"
   ]
  },
  {
   "cell_type": "code",
   "execution_count": 311,
   "metadata": {
    "collapsed": false
   },
   "outputs": [
    {
     "data": {
      "text/plain": [
       "\n",
       "\n",
       "Columns 0 to 7 \n",
       " -4.5812  10.8070  -4.2378  -5.2805  -0.7986  -3.7527  -6.4029   0.1857\n",
       " -4.7889  -0.5834  10.1286   1.3074  -8.1259 -10.2483 -13.5310   5.9491\n",
       "-10.2210   0.1188  -5.1186  13.6526 -11.1181   1.5492 -10.7495  -0.7498\n",
       "-10.2744  -2.4135  -6.4498  -7.8775  15.8837  -3.3097  -7.1414  -3.2188\n",
       " -7.4263  -9.1671 -15.3454   1.4392 -13.0718  18.4936  -3.7754 -11.0524\n",
       " -0.6917  -9.9763  -4.6020  -6.9191  -4.1801   2.7401  16.0168 -16.3044\n",
       "-10.2381  -1.7301  -2.1853  -0.2322  -9.0601  -8.7824 -19.6885  16.2550\n",
       " -4.2174  -7.4268  -2.6289   0.3553 -11.4076  -0.1164  -4.5327  -7.3156\n",
       " -4.5174 -12.7149 -10.9024  -3.6221   2.3291  -4.2100 -11.6047  -1.7489\n",
       "  9.8210  -9.7329  -5.4297  -4.1643  -6.8910  -1.0691   1.2138  -6.8332\n",
       " -2.9848  10.7950  -2.7532  -5.6745  -2.1495  -3.3792  -4.5603  -1.5601\n",
       " -6.0610  -0.3677  16.7050   0.6652 -10.1941 -13.4020 -13.8482   5.7012\n",
       " -8.1113  -1.4425  -4.2123  13.2636 -10.7504   2.0812  -8.6057  -1.0086\n",
       "-11.7277  -2.4632  -7.1987  -9.7317  15.8251  -5.0488  -7.8819  -2.6235\n",
       " -6.1411  -9.4219 -10.9026  -1.9973 -10.1877  15.1088   2.0275 -10.5870\n",
       " -0.6728 -10.0324  -1.7356  -7.6474  -4.2092   1.7202  14.5902 -14.0075\n",
       "\n",
       "Columns 8 to 9 \n",
       " -2.3674  -3.5655\n",
       " -0.0186  -5.2035\n",
       " -0.1334  -0.6760\n",
       " -5.9713   0.5601\n",
       "  0.6873  -3.2107\n",
       "  2.1235 -10.2512\n",
       " -5.9302  -0.9204\n",
       " 14.9983  -4.8354\n",
       " -4.0156  13.9584\n",
       "  1.8678  -3.7318\n",
       " -2.1849  -5.4762\n",
       " -0.8380 -11.1339\n",
       " -1.7855  -2.4676\n",
       " -2.5550  -0.3271\n",
       "  3.7395  -7.5609\n",
       " -0.2569  -9.6195\n",
       "[torch.FloatTensor of size 16x10]"
      ]
     },
     "execution_count": 311,
     "metadata": {},
     "output_type": "execute_result"
    }
   ],
   "source": [
    "outputs.data"
   ]
  },
  {
   "cell_type": "code",
   "execution_count": 312,
   "metadata": {
    "collapsed": false
   },
   "outputs": [
    {
     "data": {
      "text/plain": [
       "(\n",
       "  10.8070\n",
       "  10.1286\n",
       "  13.6526\n",
       "  15.8837\n",
       "  18.4936\n",
       "  16.0168\n",
       "  16.2550\n",
       "  14.9983\n",
       "  13.9584\n",
       "   9.8210\n",
       "  10.7950\n",
       "  16.7050\n",
       "  13.2636\n",
       "  15.8251\n",
       "  15.1088\n",
       "  14.5902\n",
       " [torch.FloatTensor of size 16x1], \n",
       "     1\n",
       "     2\n",
       "     3\n",
       "     4\n",
       "     5\n",
       "     6\n",
       "     7\n",
       "     8\n",
       "     9\n",
       "     0\n",
       "     1\n",
       "     2\n",
       "     3\n",
       "     4\n",
       "     5\n",
       "     6\n",
       " [torch.LongTensor of size 16x1])"
      ]
     },
     "execution_count": 312,
     "metadata": {},
     "output_type": "execute_result"
    }
   ],
   "source": [
    "torch.max(outputs.data, 1)"
   ]
  },
  {
   "cell_type": "code",
   "execution_count": null,
   "metadata": {
    "collapsed": false
   },
   "outputs": [],
   "source": []
  },
  {
   "cell_type": "code",
   "execution_count": null,
   "metadata": {
    "collapsed": true
   },
   "outputs": [],
   "source": []
  }
 ],
 "metadata": {
  "anaconda-cloud": {},
  "kernelspec": {
   "display_name": "Python [conda env:python35]",
   "language": "python",
   "name": "conda-env-python35-py"
  },
  "language_info": {
   "codemirror_mode": {
    "name": "ipython",
    "version": 3
   },
   "file_extension": ".py",
   "mimetype": "text/x-python",
   "name": "python",
   "nbconvert_exporter": "python",
   "pygments_lexer": "ipython3",
   "version": "3.5.2"
  }
 },
 "nbformat": 4,
 "nbformat_minor": 1
}
